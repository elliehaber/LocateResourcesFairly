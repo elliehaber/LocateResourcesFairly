{
 "cells": [
  {
   "cell_type": "markdown",
   "metadata": {},
   "source": [
    "This is a really simple analysis of the loss experienced by subgroups relative to their centroid. I use a simple loss function to calculate how much loss each individual within a cluster experiences, and check how that loss might differ for subgroups using differences in their cumulative distribution functions."
   ]
  },
  {
   "cell_type": "code",
   "execution_count": null,
   "metadata": {},
   "outputs": [],
   "source": [
    "import pandas as pd\n",
    "from geopy.distance import lonlat\n",
    "import math\n",
    "import os\n",
    "import shapefile as shp\n",
    "import matplotlib.pyplot as plt\n",
    "from matplotlib import cm\n",
    "import numpy as np\n",
    "from ipynb.fs.full.quad_loss_functions import calc_loss\n",
    "from ipynb.fs.full.demog_functions import plot_shape, plot_map\n",
    "import seaborn as sns"
   ]
  },
  {
   "cell_type": "code",
   "execution_count": 2,
   "metadata": {},
   "outputs": [],
   "source": [
    "# kmeans centroids were generated separately so we'll just read in the locations of those centroids from that analysis and base ours on those values\n",
    "# eventually, we'll want to do this dynamically\n",
    "\n",
    "# also going to collect the x- and y- coordinates of covered points to visualize and check them\n",
    "x_coords = []\n",
    "y_coords = []\n",
    "\n",
    "# ...as well as the corresponding cendroids\n",
    "x_center = []\n",
    "y_center = []\n",
    "    \n",
    "# finally, we want to extract and store both the race and loss data\n",
    "race = []\n",
    "loss = []\n",
    "    \n",
    "# change 'test' to 'k_100_membership' when ready\n",
    "path = 'kmeans_centroids/k_100_membership/' # each cluster's membership is stored in a separate file so we need to go through each to extract the data\n",
    "\n",
    "for i in os.listdir(path):\n",
    "    data = pd.read_csv(path+i,names=['race','x','y'],dtype={'race':np.str,'x':np.float64,'y':np.float64})\n",
    "    \n",
    "\n",
    "    # extract centroid info\n",
    "    x_ref = data.x[0]\n",
    "    y_ref = data.y[0]\n",
    "    \n",
    "    x_center.append(x_ref) # add to the centroid list\n",
    "    y_center.append(y_ref)\n",
    "\n",
    "    # want to calculate the loss of each individual relative to the centroid        \n",
    "    i=1\n",
    "\n",
    "    while i < len(data):\n",
    "        x = data['x'][i] # grab the x- & y-coordinates & race from the table\n",
    "        y = data['y'][i]\n",
    "        r = data['race'][i]\n",
    "        l = calc_loss(x,y,x_ref,y_ref)\n",
    "        \n",
    "        x_coords.append(x)\n",
    "        y_coords.append(y)\n",
    "        race.append(r)\n",
    "        loss.append(l)\n",
    "        \n",
    "        i+=1\n",
    "        \n",
    "    del(data)\n",
    "    "
   ]
  },
  {
   "cell_type": "code",
   "execution_count": 3,
   "metadata": {},
   "outputs": [
    {
     "data": {
      "text/plain": [
       "<matplotlib.axes._subplots.AxesSubplot at 0x1a1dfc2cc0>"
      ]
     },
     "execution_count": 3,
     "metadata": {},
     "output_type": "execute_result"
    },
    {
     "data": {
      "image/png": "[encoded data removed]",
      "text/plain": [
       "<Figure size 432x288 with 1 Axes>"
      ]
     },
     "metadata": {
      "needs_background": "light"
     },
     "output_type": "display_data"
    }
   ],
   "source": [
    "sns.distplot(loss, hist=False, kde=True, \n",
    "             bins=int(180/5), color = 'darkblue', \n",
    "             hist_kws={'edgecolor':'black'},\n",
    "             kde_kws={'linewidth': 1})"
   ]
  },
  {
   "cell_type": "code",
   "execution_count": 4,
   "metadata": {},
   "outputs": [],
   "source": [
    "# find the population-level proportions for each race\n",
    "types = list(set(race))\n",
    "pop_race = dict.fromkeys(types,0)\n",
    "\n",
    "for r in race:\n",
    "    pop_race[r]+=1\n",
    "    \n",
    "total = len(race)\n",
    "pop_race = {k: v/total for k, v in pop_race.items()}"
   ]
  },
  {
   "cell_type": "code",
   "execution_count": null,
   "metadata": {},
   "outputs": [],
   "source": [
    "# in the first iteration of this we want to simplify: \n",
    "# - select 2 subgroups for comparison \n",
    "# - select percentile at which to compare"
   ]
  },
  {
   "cell_type": "code",
   "execution_count": 150,
   "metadata": {},
   "outputs": [
    {
     "data": {
      "text/plain": [
       "0.10013106745534084"
      ]
     },
     "execution_count": 150,
     "metadata": {},
     "output_type": "execute_result"
    }
   ],
   "source": [
    "def compare_loss(group1,group2,percentile):\n",
    "    select_race = [group1, group2]\n",
    "    \n",
    "    percentile_loss = []\n",
    "    for s in select_race:\n",
    "        subgroup = [l for l,r in zip(loss,race) if r==s] # subset the two different groups of interest\n",
    "        loss_p = np.percentile(subgroup, percentile,interpolation='linear') # find the level of loss at given percentile\n",
    "        percentile_loss.append(loss_p) # load list with loss\n",
    "        \n",
    "    difference = percentile_loss[0]-percentile_loss[1] # find difference between two @ percentile\n",
    "    \n",
    "    return difference"
   ]
  },
  {
   "cell_type": "code",
   "execution_count": 152,
   "metadata": {},
   "outputs": [
    {
     "data": {
      "text/plain": [
       "0.11680661591582353"
      ]
     },
     "execution_count": 152,
     "metadata": {},
     "output_type": "execute_result"
    }
   ],
   "source": [
    "test = compare_loss('white','black',25)\n",
    "test"
   ]
  },
  {
   "cell_type": "code",
   "execution_count": 155,
   "metadata": {},
   "outputs": [
    {
     "data": {
      "text/plain": [
       "[0.002689941607631967,\n",
       " 0.004994351036907728,\n",
       " 0.007602462856273737,\n",
       " 0.010857350625191234,\n",
       " 0.014408512730845757,\n",
       " 0.0189424256411998,\n",
       " 0.023326277826906022,\n",
       " 0.02789072159785494,\n",
       " 0.03309164406959744,\n",
       " 0.038307043567858134,\n",
       " 0.044085675254267626,\n",
       " 0.049960767633818404,\n",
       " 0.055665311766864345,\n",
       " 0.06194232221149154,\n",
       " 0.06815569754622902,\n",
       " 0.07477972912869374,\n",
       " 0.08112849822669194,\n",
       " 0.0875080646210944,\n",
       " 0.09307833957828932,\n",
       " 0.09851411076051991,\n",
       " 0.10329845976944335,\n",
       " 0.1073166633138487,\n",
       " 0.11155858535375296,\n",
       " 0.11470624545705188,\n",
       " 0.11680661591582353,\n",
       " 0.11841550606287599,\n",
       " 0.11936901249004417,\n",
       " 0.11996616283212058,\n",
       " 0.11960857336569464,\n",
       " 0.11800864661699384,\n",
       " 0.11559714164962487,\n",
       " 0.112749937482855,\n",
       " 0.10915145342186272,\n",
       " 0.1048928940324475,\n",
       " 0.10013106745534084,\n",
       " 0.09509803322827859,\n",
       " 0.09005373988796495,\n",
       " 0.08481730386511965,\n",
       " 0.07946532998598255,\n",
       " 0.07430727028735551,\n",
       " 0.06912486427088504,\n",
       " 0.06432738837160745,\n",
       " 0.05961204575179346,\n",
       " 0.05473832944837209,\n",
       " 0.05014808706937346,\n",
       " 0.04567190248979425,\n",
       " 0.04173164739912405,\n",
       " 0.037891021669120506,\n",
       " 0.03410860271009197,\n",
       " 0.03061422882537279,\n",
       " 0.027294334062407666,\n",
       " 0.024301088556442973,\n",
       " 0.021603629372442756,\n",
       " 0.019133739726162724,\n",
       " 0.017016526122322073,\n",
       " 0.015110106290640357,\n",
       " 0.01339820177682527,\n",
       " 0.011894984404106301,\n",
       " 0.010619053403580936,\n",
       " 0.00944179032273984,\n",
       " 0.008437321283609522,\n",
       " 0.007568229503036927,\n",
       " 0.006823094811738706,\n",
       " 0.006196466848685134,\n",
       " 0.005652131513418368,\n",
       " 0.0051489896514160804,\n",
       " 0.004706870823091069,\n",
       " 0.004306823956884309,\n",
       " 0.003943994836881681,\n",
       " 0.003613616884625803,\n",
       " 0.003306298174644895,\n",
       " 0.00301478735406413,\n",
       " 0.0027523204014142655,\n",
       " 0.0024816626943703346,\n",
       " 0.002245904429887924,\n",
       " 0.0020313307610295706,\n",
       " 0.0018288389557183926,\n",
       " 0.0016518819587109101,\n",
       " 0.0014821928567776421,\n",
       " 0.0013280311863698158,\n",
       " 0.0011784268124536146,\n",
       " 0.0010443352034493758,\n",
       " 0.0009159447703545043,\n",
       " 0.0007996564332314327,\n",
       " 0.000693517679665856,\n",
       " 0.0005971019642045938,\n",
       " 0.0005062436973150009,\n",
       " 0.0004233499298939014,\n",
       " 0.0003496825079789545,\n",
       " 0.0002824241847055875,\n",
       " 0.00022092717745114676,\n",
       " 0.00016778655411175958,\n",
       " 0.00012190597718697571,\n",
       " 8.314258278296904e-05,\n",
       " 5.325688885793323e-05,\n",
       " 3.0460925713127196e-05,\n",
       " 1.400383157579288e-05,\n",
       " 5.097440762380501e-06,\n",
       " 7.505048272848924e-07,\n",
       " 0.0]"
      ]
     },
     "execution_count": 155,
     "metadata": {},
     "output_type": "execute_result"
    }
   ],
   "source": [
    "test_diff = []\n",
    "for i in range(100):\n",
    "    diff = compare_loss('white','black',i+1)\n",
    "    test_diff.append(diff)\n",
    "test_diff"
   ]
  },
  {
   "cell_type": "code",
   "execution_count": 157,
   "metadata": {},
   "outputs": [
    {
     "data": {
      "text/plain": [
       "[<matplotlib.lines.Line2D at 0x1a2d830208>]"
      ]
     },
     "execution_count": 157,
     "metadata": {},
     "output_type": "execute_result"
    },
    {
     "data": {
      "image/png": "[encoded data removed]",
      "text/plain": [
       "<Figure size 432x288 with 1 Axes>"
      ]
     },
     "metadata": {
      "needs_background": "light"
     },
     "output_type": "display_data"
    }
   ],
   "source": [
    "plt.plot(test_diff)"
   ]
  },
  {
   "cell_type": "code",
   "execution_count": 196,
   "metadata": {},
   "outputs": [],
   "source": [
    "# Now we want to scan over all percentiles for the two gorups looking for the biggest difference between the two\n",
    "\n",
    "def scan_compare_loss(group1,group2):\n",
    "    select_race = [group1, group2]\n",
    "    \n",
    "    difference = []\n",
    "    for i in range(len(select_race)):\n",
    "        subgroup = [l for l,r in zip(loss,race) if r==select_race[i]] # subset the two different groups of interest\n",
    "        for p in range(1,100):\n",
    "            loss_p = np.percentile(subgroup, p,interpolation='linear') # find the level of loss at given percentile\n",
    "            if i==0:\n",
    "                difference.append(loss_p) # load list with loss\n",
    "            else:\n",
    "                difference[p-1] = difference[p-1] - loss_p\n",
    "    \n",
    "    # pull out the maximum difference within percentile\n",
    "    max_diff = max(difference)\n",
    "    return max_diff\n"
   ]
  },
  {
   "cell_type": "code",
   "execution_count": 197,
   "metadata": {},
   "outputs": [
    {
     "data": {
      "text/plain": [
       "0.11996616283212058"
      ]
     },
     "execution_count": 197,
     "metadata": {},
     "output_type": "execute_result"
    }
   ],
   "source": [
    "scan_compare_loss('white','black')"
   ]
  },
  {
   "cell_type": "code",
   "execution_count": null,
   "metadata": {},
   "outputs": [],
   "source": []
  },
  {
   "cell_type": "code",
   "execution_count": null,
   "metadata": {},
   "outputs": [],
   "source": []
  },
  {
   "cell_type": "code",
   "execution_count": null,
   "metadata": {},
   "outputs": [],
   "source": []
  },
  {
   "cell_type": "code",
   "execution_count": null,
   "metadata": {},
   "outputs": [],
   "source": []
  }
 ],
 "metadata": {
  "kernelspec": {
   "display_name": "Python 3",
   "language": "python",
   "name": "python3"
  },
  "language_info": {
   "codemirror_mode": {
    "name": "ipython",
    "version": 3
   },
   "file_extension": ".py",
   "mimetype": "text/x-python",
   "name": "python",
   "nbconvert_exporter": "python",
   "pygments_lexer": "ipython3",
   "version": "3.7.3"
  }
 },
 "nbformat": 4,
 "nbformat_minor": 2
}
