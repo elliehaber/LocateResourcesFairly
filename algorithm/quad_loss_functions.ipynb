{
 "cells": [
  {
   "cell_type": "markdown",
   "metadata": {},
   "source": [
    "Functions related to the calculation of loss as a function of an individual's distance"
   ]
  },
  {
   "cell_type": "code",
   "execution_count": 11,
   "metadata": {},
   "outputs": [],
   "source": [
    "# now we create a quick function to calculate loss based on distance from centroid\n",
    "def calc_loss(x,y,x_ref,y_ref):\n",
    "    \n",
    "    from math import sqrt,isnan\n",
    "    from numpy import exp\n",
    "    \n",
    "    # calculate Euclidean distance btw person & centroid\n",
    "    # divide by 5280 to convert from feet to miles\n",
    "    distance = sqrt((((x-x_ref)/5280)**2)+((y-y_ref)/5280)**2) \n",
    "    \n",
    "    # refer to the above distance function to determine individual loss\n",
    "    loss = 1/(1+40*exp(-10*distance)) # this is arbitrary, it's likely that we could come up with a better curve\n",
    "    \n",
    "    #return distance\n",
    "    return loss"
   ]
  },
  {
   "cell_type": "code",
   "execution_count": null,
   "metadata": {},
   "outputs": [],
   "source": [
    "# this function compares the loss between two groups at a certain percentile level\n",
    "def compare_loss(group1,group2,percentile):\n",
    "    select_race = [group1, group2]\n",
    "    \n",
    "    percentile_loss = []\n",
    "    for s in select_race:\n",
    "        subgroup = [l for l,r in zip(loss,race) if r==s] # subset the two different groups of interest\n",
    "        loss_p = np.percentile(subgroup, percentile,interpolation='linear') # find the level of loss at given percentile\n",
    "        percentile_loss.append(loss_p) # load list with loss\n",
    "        \n",
    "    difference = percentile_loss[0]-percentile_loss[1] # find difference between two @ percentile\n",
    "    \n",
    "    return difference"
   ]
  },
  {
   "cell_type": "code",
   "execution_count": null,
   "metadata": {},
   "outputs": [],
   "source": [
    "# This function scans over all percentiles for the two gorups looking for the biggest difference between the two\n",
    "\n",
    "def scan_compare_loss(group1,group2):\n",
    "    select_race = [group1, group2]\n",
    "    \n",
    "    difference = []\n",
    "    for i in range(len(select_race)):\n",
    "        subgroup = [l for l,r in zip(loss,race) if r==select_race[i]] # subset the two different groups of interest\n",
    "        for p in range(1,100):\n",
    "            loss_p = np.percentile(subgroup, p,interpolation='linear') # find the level of loss at given percentile\n",
    "            if i==0:\n",
    "                difference.append(loss_p) # load list with loss\n",
    "            else:\n",
    "                difference[p-1] = difference[p-1] - loss_p\n",
    "    \n",
    "    # pull out the maximum difference within percentile\n",
    "    max_diff = max(difference)\n",
    "    return max_diff"
   ]
  }
 ],
 "metadata": {
  "kernelspec": {
   "display_name": "Python 3",
   "language": "python",
   "name": "python3"
  },
  "language_info": {
   "codemirror_mode": {
    "name": "ipython",
    "version": 3
   },
   "file_extension": ".py",
   "mimetype": "text/x-python",
   "name": "python",
   "nbconvert_exporter": "python",
   "pygments_lexer": "ipython3",
   "version": "3.7.3"
  }
 },
 "nbformat": 4,
 "nbformat_minor": 2
}
