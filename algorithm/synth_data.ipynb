{
  "nbformat": 4,
  "nbformat_minor": 0,
  "metadata": {
    "colab": {
      "name": "synth_data.ipynb",
      "provenance": []
    },
    "kernelspec": {
      "name": "python3",
      "display_name": "Python 3"
    }
  },
  "cells": [
    {
      "cell_type": "code",
      "metadata": {
        "id": "4MvuZpJO9Kg-",
        "colab_type": "code",
        "colab": {}
      },
      "source": [
        "# now we create a quick function to calculate loss based on distance from centroid\n",
        "def calc_loss(x,y,x_ref,y_ref):\n",
        "    \n",
        "    \n",
        "    # calculate Euclidean distance btw person & centroid\n",
        "    distance = np.sqrt((((x-x_ref)**2)+((y-y_ref)**2))) \n",
        "    \n",
        "    # refer to the above distance function to determine individual loss\n",
        "    loss = 1/(1+ np.exp(-distance)) #converts distances to probability distribution\n",
        "    \n",
        "    #return distance\n",
        "    return loss"
      ],
      "execution_count": 0,
      "outputs": []
    },
    {
      "cell_type": "code",
      "metadata": {
        "id": "pHz2LfEQQsZK",
        "colab_type": "code",
        "colab": {}
      },
      "source": [
        "# this function compares the loss between two groups at a certain percentile level\n",
        "def compare_loss(group1,group2,percentile):\n",
        "    select_group = [group1, group2]\n",
        "    \n",
        "    percentile_loss = []\n",
        "    for s in select_group:\n",
        "        subgroup = [s['min_loss']] # subset the two different groups of interest\n",
        "        loss_p = np.percentile(subgroup, percentile,interpolation='linear') # find the level of loss at given percentile\n",
        "        percentile_loss.append(loss_p) # load list with loss\n",
        "        \n",
        "    difference = percentile_loss[0]-percentile_loss[1] # find difference between two @ percentile\n",
        "    \n",
        "    return difference"
      ],
      "execution_count": 0,
      "outputs": []
    },
    {
      "cell_type": "code",
      "metadata": {
        "id": "F-QSfIr4Xz49",
        "colab_type": "code",
        "colab": {}
      },
      "source": [
        "def loss_funct(cluster0, cluster1):\n",
        "  cluster0_len = len(cluster0['min_loss'])\n",
        "  cluster1_len = len(cluster1['min_loss'])\n",
        "  tot = cluster0_len + cluster1_len\n",
        "\n",
        "  #individual loss summation for all points associated with centroid 0\n",
        "  indiv_loss0 = cluster0['min_loss'].sum()\n",
        "\n",
        "  #individual loss summation for all points associated with centroid 1\n",
        "  indiv_loss1 = cluster1['min_loss'].sum()\n",
        "  \n",
        "  #sums the individual loss for all points associated with each centroid and divides byall individuals\n",
        "  #total individual loss between red and blue points\n",
        "  indiv_loss_tot = (indiv_loss0 + indiv_loss1) / tot\n",
        "\n",
        "  #calculation of subgroup loss between red and blue\n",
        "  subgroup_loss_div = compare_loss(cluster0, cluster1 ,0.5)\n",
        "\n",
        "  #based on the loss function defined, we divide the divergence of the 2 groups' loss by the number of subgroups\n",
        "  subgroup_div_tot = subgroup_loss_div/2\n",
        "\n",
        "  #want to minimize this value\n",
        "  return indiv_loss_tot + subgroup_div_tot\n",
        "\n",
        "\n"
      ],
      "execution_count": 0,
      "outputs": []
    },
    {
      "cell_type": "code",
      "metadata": {
        "id": "l0PFBv30obU-",
        "colab_type": "code",
        "outputId": "74be31af-59c6-4df5-fc00-485957d5857d",
        "colab": {
          "base_uri": "https://localhost:8080/",
          "height": 390
        }
      },
      "source": [
        "from sklearn.datasets import make_classification\n",
        "from matplotlib import pyplot as plt\n",
        "import seaborn as sns\n",
        "import numpy as np\n",
        "import pandas as pd\n",
        "\n",
        "\n",
        "\n",
        "# Generate Imbalanced Synthetic Data\n",
        "X,y = make_classification(n_samples=500, shift=4 ,n_features=2,n_informative=2, n_redundant=0, n_repeated=0, n_classes=2, n_clusters_per_class=2,class_sep=.8,flip_y=0,weights=[0.75,0.25], random_state=55)\n",
        "\n",
        "#create dataframe to hold x and y coordinates\n",
        "df = pd.DataFrame({\n",
        "    'x_coord': X[:,0],\n",
        "    'y_coord': X[:,1]\n",
        "})\n",
        "\n",
        "#red vs blue points\n",
        "#if group = 0, then the point is in the blue group\n",
        "# if group = 1, then the point is in the red group\n",
        "df['group'] = y\n",
        "\n",
        "\n",
        "# np.random.seed(42)\n",
        "\n",
        "#arbitrarily picked random k (number of centroids)\n",
        "k = 2\n",
        "\n",
        "#randomly initialized centroid x and y coordinates (in real data we will actually have these coordinates)\n",
        "centroids = {\n",
        "    0: [3,4],\n",
        "    1: [5.5, 4.5]\n",
        "}\n",
        "\n",
        "#colors for centroids\n",
        "color_map = {0: 'g', 1: 'm'}\n",
        "\n",
        "\n",
        "#plot synthetic data\n",
        "fig = plt.figure(figsize=(5,5))\n",
        "ax = sns.scatterplot(X[:,0],X[:,1],hue=y, palette=['blue','red'])\n",
        "\n",
        "for i in centroids.keys():\n",
        "  plt.scatter(centroids[i][0], centroids[i][1], color=color_map[i])\n",
        "\n",
        "plt.xlim(0, 8)\n",
        "plt.ylim(0, 8)\n",
        "ax.set_title(\"Synthetic Data\");\n",
        "plt.show()\n",
        "\n"
      ],
      "execution_count": 4,
      "outputs": [
        {
          "output_type": "stream",
          "text": [
            "/usr/local/lib/python3.6/dist-packages/statsmodels/tools/_testing.py:19: FutureWarning: pandas.util.testing is deprecated. Use the functions in the public API at pandas.testing instead.\n",
            "  import pandas.util.testing as tm\n"
          ],
          "name": "stderr"
        },
        {
          "output_type": "display_data",
          "data": {
            "image/png": "[encoded data removed]",
            "text/plain": [
              "<Figure size 360x360 with 1 Axes>"
            ]
          },
          "metadata": {
            "tags": [],
            "needs_background": "light"
          }
        }
      ]
    },
    {
      "cell_type": "code",
      "metadata": {
        "id": "_8N7YL7Kxs79",
        "colab_type": "code",
        "outputId": "94073311-f619-400e-e872-4ff6d569b564",
        "colab": {
          "base_uri": "https://localhost:8080/",
          "height": 419
        }
      },
      "source": [
        "\n",
        "\n",
        "def assign_cluster(df, centroids):\n",
        "  for i in centroids.keys():\n",
        "    #loss based on euclidean distance for each individual point compared to both centroids\n",
        "    #stored in dataframe\n",
        "    df['loss_from_{}'.format(i)] = calc_loss(df['x_coord'], df['y_coord'], centroids[i][0], centroids[i][1])\n",
        "\n",
        "  centroid_dist_col = ['loss_from_{}'.format(i) for i in centroids.keys()]\n",
        "\n",
        "  #df column which holds the value of the closest centroid for each point\n",
        "  df['min_centr'] = df.loc[:, centroid_dist_col].idxmin(axis=1)\n",
        "  df['min_centr'] = df['min_centr'].map(lambda x: int(x.lstrip('loss_from_')))\n",
        "  \n",
        "  #value of loss calculated from sigmoid in calc_loss function for individual loss\n",
        "  df['min_loss'] = df[['loss_from_0','loss_from_1']].min(axis=1)\n",
        "  #color of the closest centroid to each point\n",
        "  df['color'] = df['min_centr'].map(lambda x: color_map[x])\n",
        "  return df\n",
        "\n",
        "\n",
        "df = assign_cluster(df, centroids)\n",
        "df"
      ],
      "execution_count": 5,
      "outputs": [
        {
          "output_type": "execute_result",
          "data": {
            "text/html": [
              "<div>\n",
              "<style scoped>\n",
              "    .dataframe tbody tr th:only-of-type {\n",
              "        vertical-align: middle;\n",
              "    }\n",
              "\n",
              "    .dataframe tbody tr th {\n",
              "        vertical-align: top;\n",
              "    }\n",
              "\n",
              "    .dataframe thead th {\n",
              "        text-align: right;\n",
              "    }\n",
              "</style>\n",
              "<table border=\"1\" class=\"dataframe\">\n",
              "  <thead>\n",
              "    <tr style=\"text-align: right;\">\n",
              "      <th></th>\n",
              "      <th>x_coord</th>\n",
              "      <th>y_coord</th>\n",
              "      <th>group</th>\n",
              "      <th>loss_from_0</th>\n",
              "      <th>loss_from_1</th>\n",
              "      <th>min_centr</th>\n",
              "      <th>min_loss</th>\n",
              "      <th>color</th>\n",
              "    </tr>\n",
              "  </thead>\n",
              "  <tbody>\n",
              "    <tr>\n",
              "      <th>0</th>\n",
              "      <td>3.126701</td>\n",
              "      <td>5.861518</td>\n",
              "      <td>0</td>\n",
              "      <td>0.865974</td>\n",
              "      <td>0.939124</td>\n",
              "      <td>0</td>\n",
              "      <td>0.865974</td>\n",
              "      <td>g</td>\n",
              "    </tr>\n",
              "    <tr>\n",
              "      <th>1</th>\n",
              "      <td>3.009882</td>\n",
              "      <td>3.865715</td>\n",
              "      <td>0</td>\n",
              "      <td>0.533611</td>\n",
              "      <td>0.928881</td>\n",
              "      <td>0</td>\n",
              "      <td>0.533611</td>\n",
              "      <td>g</td>\n",
              "    </tr>\n",
              "    <tr>\n",
              "      <th>2</th>\n",
              "      <td>1.910421</td>\n",
              "      <td>2.200962</td>\n",
              "      <td>0</td>\n",
              "      <td>0.891220</td>\n",
              "      <td>0.986111</td>\n",
              "      <td>0</td>\n",
              "      <td>0.891220</td>\n",
              "      <td>g</td>\n",
              "    </tr>\n",
              "    <tr>\n",
              "      <th>3</th>\n",
              "      <td>3.884626</td>\n",
              "      <td>4.533612</td>\n",
              "      <td>1</td>\n",
              "      <td>0.737517</td>\n",
              "      <td>0.834205</td>\n",
              "      <td>0</td>\n",
              "      <td>0.737517</td>\n",
              "      <td>g</td>\n",
              "    </tr>\n",
              "    <tr>\n",
              "      <th>4</th>\n",
              "      <td>3.779372</td>\n",
              "      <td>2.588979</td>\n",
              "      <td>0</td>\n",
              "      <td>0.833683</td>\n",
              "      <td>0.929004</td>\n",
              "      <td>0</td>\n",
              "      <td>0.833683</td>\n",
              "      <td>g</td>\n",
              "    </tr>\n",
              "    <tr>\n",
              "      <th>...</th>\n",
              "      <td>...</td>\n",
              "      <td>...</td>\n",
              "      <td>...</td>\n",
              "      <td>...</td>\n",
              "      <td>...</td>\n",
              "      <td>...</td>\n",
              "      <td>...</td>\n",
              "      <td>...</td>\n",
              "    </tr>\n",
              "    <tr>\n",
              "      <th>495</th>\n",
              "      <td>3.672692</td>\n",
              "      <td>4.300994</td>\n",
              "      <td>0</td>\n",
              "      <td>0.676331</td>\n",
              "      <td>0.862725</td>\n",
              "      <td>0</td>\n",
              "      <td>0.676331</td>\n",
              "      <td>g</td>\n",
              "    </tr>\n",
              "    <tr>\n",
              "      <th>496</th>\n",
              "      <td>4.252466</td>\n",
              "      <td>3.995263</td>\n",
              "      <td>0</td>\n",
              "      <td>0.777728</td>\n",
              "      <td>0.793437</td>\n",
              "      <td>0</td>\n",
              "      <td>0.777728</td>\n",
              "      <td>g</td>\n",
              "    </tr>\n",
              "    <tr>\n",
              "      <th>497</th>\n",
              "      <td>4.827376</td>\n",
              "      <td>4.849431</td>\n",
              "      <td>1</td>\n",
              "      <td>0.882379</td>\n",
              "      <td>0.680914</td>\n",
              "      <td>1</td>\n",
              "      <td>0.680914</td>\n",
              "      <td>m</td>\n",
              "    </tr>\n",
              "    <tr>\n",
              "      <th>498</th>\n",
              "      <td>3.590866</td>\n",
              "      <td>3.208162</td>\n",
              "      <td>0</td>\n",
              "      <td>0.728691</td>\n",
              "      <td>0.909301</td>\n",
              "      <td>0</td>\n",
              "      <td>0.728691</td>\n",
              "      <td>g</td>\n",
              "    </tr>\n",
              "    <tr>\n",
              "      <th>499</th>\n",
              "      <td>2.882065</td>\n",
              "      <td>5.226732</td>\n",
              "      <td>0</td>\n",
              "      <td>0.774236</td>\n",
              "      <td>0.938018</td>\n",
              "      <td>0</td>\n",
              "      <td>0.774236</td>\n",
              "      <td>g</td>\n",
              "    </tr>\n",
              "  </tbody>\n",
              "</table>\n",
              "<p>500 rows × 8 columns</p>\n",
              "</div>"
            ],
            "text/plain": [
              "      x_coord   y_coord  group  ...  min_centr  min_loss  color\n",
              "0    3.126701  5.861518      0  ...          0  0.865974      g\n",
              "1    3.009882  3.865715      0  ...          0  0.533611      g\n",
              "2    1.910421  2.200962      0  ...          0  0.891220      g\n",
              "3    3.884626  4.533612      1  ...          0  0.737517      g\n",
              "4    3.779372  2.588979      0  ...          0  0.833683      g\n",
              "..        ...       ...    ...  ...        ...       ...    ...\n",
              "495  3.672692  4.300994      0  ...          0  0.676331      g\n",
              "496  4.252466  3.995263      0  ...          0  0.777728      g\n",
              "497  4.827376  4.849431      1  ...          1  0.680914      m\n",
              "498  3.590866  3.208162      0  ...          0  0.728691      g\n",
              "499  2.882065  5.226732      0  ...          0  0.774236      g\n",
              "\n",
              "[500 rows x 8 columns]"
            ]
          },
          "metadata": {
            "tags": []
          },
          "execution_count": 5
        }
      ]
    },
    {
      "cell_type": "code",
      "metadata": {
        "id": "IoPP1m_wml_v",
        "colab_type": "code",
        "colab": {}
      },
      "source": [
        "#all points clustered around centroid 0\n",
        "clust_0 = df[df['min_centr'] == 0]\n",
        "#all points clustered around centroid 1\n",
        "clust_1 = df[df['min_centr'] == 1]\n",
        "\n",
        "#all points in group 0 (blue points)\n",
        "group_0 = df[df['group']==0]\n",
        "#all points in group 1 (red points)\n",
        "group_1 = df[df['group']==1]\n",
        "\n",
        "#blue = 0\n",
        "#red = 1\n",
        "\n",
        "#dictionary storing total red and blue points associated with centrioid 0\n",
        "clust_0_groups = {0: clust_0.loc[clust_0['group']==0, 'group'].count(), \n",
        "                  1: clust_0.loc[clust_0['group']==1, 'group'].count()}\n",
        "\n",
        "#total number of points in cluster around centroid 0\n",
        "clust0_tot = clust_0_groups[0] + clust_0_groups[1]\n",
        "\n",
        "#dictionary storing total red and blue points associated with centrioid 1\n",
        "clust_1_groups = {0: clust_1.loc[clust_1['group']==0, 'group'].count(), \n",
        "                  1: clust_1.loc[clust_1['group']==1, 'group'].count()}\n",
        "\n",
        "#total number of points in cluster around centroid 1\n",
        "clust1_tot = clust_1_groups[0] + clust_1_groups[1]\n"
      ],
      "execution_count": 0,
      "outputs": []
    },
    {
      "cell_type": "code",
      "metadata": {
        "id": "Yvk9M3hZVaF-",
        "colab_type": "code",
        "outputId": "d942e912-5fab-4f47-9757-9bd509eecb30",
        "colab": {
          "base_uri": "https://localhost:8080/",
          "height": 51
        }
      },
      "source": [
        "#Total Percentages of Red and Blue in population \n",
        "red_percent = (clust_0_groups[1] + clust_1_groups[1])/(clust0_tot + clust1_tot)\n",
        "blue_percent = (clust_0_groups[0] + clust_1_groups[0])/(clust0_tot + clust1_tot)\n",
        "\n",
        "print('red: ', red_percent)\n",
        "print('blue: ', blue_percent)"
      ],
      "execution_count": 7,
      "outputs": [
        {
          "output_type": "stream",
          "text": [
            "red:  0.25\n",
            "blue:  0.75\n"
          ],
          "name": "stdout"
        }
      ]
    },
    {
      "cell_type": "code",
      "metadata": {
        "id": "kGM-v-xyV6f-",
        "colab_type": "code",
        "outputId": "d1a5b86d-6252-484e-d789-b148340e38cd",
        "colab": {
          "base_uri": "https://localhost:8080/",
          "height": 213
        }
      },
      "source": [
        "#Total Percentages Per Cluster\n",
        "#Cluster 0 red percentage\n",
        "clust0_percent_red = clust_0_groups[1]/clust0_tot\n",
        "\n",
        "#Cluster 0 blue percentage\n",
        "clust0_percent_blue = clust_0_groups[0]/clust0_tot\n",
        "\n",
        "print(\"Cluster 0: \")\n",
        "print('red: ', clust0_percent_red)\n",
        "print('blue: ', clust0_percent_blue)\n",
        "\n",
        "#Cluster 1 red percentage\n",
        "clust1_percent_red = clust_1_groups[1]/clust1_tot\n",
        "\n",
        "#Cluster 0 blue percentage\n",
        "clust1_percent_blue = clust_1_groups[0]/clust1_tot\n",
        "\n",
        "print(\"Cluster 1: \")\n",
        "print('red: ', clust1_percent_red)\n",
        "print('blue: ', clust1_percent_blue)\n",
        "\n",
        "\n",
        "#new dataframe for the percentages of each group in both clusters and the total population\n",
        "color_rates = pd.DataFrame({'color': ['red', 'blue'],\n",
        "                            'population_level': [red_percent, blue_percent],\n",
        "                            'cluster_0': [clust0_percent_red, clust0_percent_blue],\n",
        "                            'cluster_1': [clust1_percent_red, clust1_percent_blue]})\n",
        "color_rates"
      ],
      "execution_count": 8,
      "outputs": [
        {
          "output_type": "stream",
          "text": [
            "Cluster 0: \n",
            "red:  0.08376963350785341\n",
            "blue:  0.9162303664921466\n",
            "Cluster 1: \n",
            "red:  0.788135593220339\n",
            "blue:  0.211864406779661\n"
          ],
          "name": "stdout"
        },
        {
          "output_type": "execute_result",
          "data": {
            "text/html": [
              "<div>\n",
              "<style scoped>\n",
              "    .dataframe tbody tr th:only-of-type {\n",
              "        vertical-align: middle;\n",
              "    }\n",
              "\n",
              "    .dataframe tbody tr th {\n",
              "        vertical-align: top;\n",
              "    }\n",
              "\n",
              "    .dataframe thead th {\n",
              "        text-align: right;\n",
              "    }\n",
              "</style>\n",
              "<table border=\"1\" class=\"dataframe\">\n",
              "  <thead>\n",
              "    <tr style=\"text-align: right;\">\n",
              "      <th></th>\n",
              "      <th>color</th>\n",
              "      <th>population_level</th>\n",
              "      <th>cluster_0</th>\n",
              "      <th>cluster_1</th>\n",
              "    </tr>\n",
              "  </thead>\n",
              "  <tbody>\n",
              "    <tr>\n",
              "      <th>0</th>\n",
              "      <td>red</td>\n",
              "      <td>0.25</td>\n",
              "      <td>0.08377</td>\n",
              "      <td>0.788136</td>\n",
              "    </tr>\n",
              "    <tr>\n",
              "      <th>1</th>\n",
              "      <td>blue</td>\n",
              "      <td>0.75</td>\n",
              "      <td>0.91623</td>\n",
              "      <td>0.211864</td>\n",
              "    </tr>\n",
              "  </tbody>\n",
              "</table>\n",
              "</div>"
            ],
            "text/plain": [
              "  color  population_level  cluster_0  cluster_1\n",
              "0   red              0.25    0.08377   0.788136\n",
              "1  blue              0.75    0.91623   0.211864"
            ]
          },
          "metadata": {
            "tags": []
          },
          "execution_count": 8
        }
      ]
    },
    {
      "cell_type": "code",
      "metadata": {
        "id": "Dm3pDagaXwU8",
        "colab_type": "code",
        "outputId": "7e25f1a6-43f6-4586-ed4a-08fb15041654",
        "colab": {
          "base_uri": "https://localhost:8080/",
          "height": 282
        }
      },
      "source": [
        "#plot representing the percentage differences in red/blue group representation on population/cluster level\n",
        "plt.scatter(color_rates['color'], color_rates['population_level'],label='population level')\n",
        "plt.scatter(color_rates['color'],color_rates['cluster_0'],label = 'cluster 0')\n",
        "plt.scatter(color_rates['color'],color_rates['cluster_1'],label = 'cluster 1')\n",
        "plt.legend()"
      ],
      "execution_count": 9,
      "outputs": [
        {
          "output_type": "execute_result",
          "data": {
            "text/plain": [
              "<matplotlib.legend.Legend at 0x7f2a33afae10>"
            ]
          },
          "metadata": {
            "tags": []
          },
          "execution_count": 9
        },
        {
          "output_type": "display_data",
          "data": {
            "image/png": "[encoded data removed]",
            "text/plain": [
              "<Figure size 432x288 with 1 Axes>"
            ]
          },
          "metadata": {
            "tags": [],
            "needs_background": "light"
          }
        }
      ]
    },
    {
      "cell_type": "code",
      "metadata": {
        "id": "gm1uSK1qNWF-",
        "colab_type": "code",
        "outputId": "cabe38dd-f6dc-4c2f-f9e4-2752470103d8",
        "colab": {
          "base_uri": "https://localhost:8080/",
          "height": 295
        }
      },
      "source": [
        "#CDF for all blue and red points\n",
        "#cdf for group 0 (all blue points)\n",
        "sorted_data_0 = group_0.sort_values(by=['min_loss'])\n",
        "sorted_len_0 = len(sorted_data_0['min_loss'])\n",
        "yvals_0 = np.arange(sorted_len_0)/float(sorted_len_0-1)\n",
        "\n",
        "#cdf for group 1 (all red points)\n",
        "sorted_data_1 = group_1.sort_values(by=['min_loss'])\n",
        "sorted_len_1 = len(sorted_data_1['min_loss'])\n",
        "yvals_1 = np.arange(sorted_len_1)/float(sorted_len_1-1)\n",
        "\n",
        "\n",
        "plt.plot(sorted_data_0['min_loss'], yvals_0, 'b')\n",
        "plt.plot(sorted_data_1['min_loss'], yvals_1, 'r')\n",
        "\n",
        "plt.xlabel('loss per individual')\n",
        "plt.ylabel('% of people within certain loss of centroid')\n",
        "plt.title('Individual loss- CDF stratified by group')\n",
        "plt.show()\n",
        "\n",
        "\n",
        "#blue = 0 (blue points)\n",
        "#red = 1 (red points)"
      ],
      "execution_count": 10,
      "outputs": [
        {
          "output_type": "display_data",
          "data": {
            "image/png": "[encoded data removed]",
            "text/plain": [
              "<Figure size 432x288 with 1 Axes>"
            ]
          },
          "metadata": {
            "tags": [],
            "needs_background": "light"
          }
        }
      ]
    },
    {
      "cell_type": "code",
      "metadata": {
        "id": "oA9KUmyjTUuZ",
        "colab_type": "code",
        "colab": {}
      },
      "source": [
        "# find subgroup loss\n",
        "loss = compare_loss(group_0, group_1, .5)\n",
        "#find loss that minimizes individual loss AND divergence among subgroups\n",
        "tot_loss = loss_funct(clust_0, clust_1,)"
      ],
      "execution_count": 0,
      "outputs": []
    },
    {
      "cell_type": "code",
      "metadata": {
        "id": "Z7pbJfUMv9ca",
        "colab_type": "code",
        "colab": {
          "base_uri": "https://localhost:8080/",
          "height": 34
        },
        "outputId": "c9d3ec05-bde3-4523-a069-eb34ee79410c"
      },
      "source": [
        "tot_loss"
      ],
      "execution_count": 12,
      "outputs": [
        {
          "output_type": "execute_result",
          "data": {
            "text/plain": [
              "0.750876907609542"
            ]
          },
          "metadata": {
            "tags": []
          },
          "execution_count": 12
        }
      ]
    },
    {
      "cell_type": "code",
      "metadata": {
        "id": "e8xIuSfEeeHQ",
        "colab_type": "code",
        "outputId": "857d4df5-3dbd-4f4f-dafe-806cccf90f19",
        "colab": {
          "base_uri": "https://localhost:8080/",
          "height": 641
        }
      },
      "source": [
        "def update_centroids(centroids, x_coord, y_coord, loss):\n",
        "  \n",
        "  for i in centroids.keys():\n",
        "    centroids[i][0] += .01\n",
        "    centroids[i][1] += .01\n",
        "  while True: \n",
        "    df_2 = assign_cluster(df, centroids)\n",
        "\n",
        "    clust_0 = df_2[df_2['min_centr'] == 0]\n",
        "    clust_1 = df_2[df_2['min_centr'] == 1]\n",
        "\n",
        "    group_0 = df_2[df_2['group']==0]\n",
        "    group_1 = df_2[df_2['group']==1]\n",
        "\n",
        "    sorted_data_0 = group_0.sort_values(by=['min_loss'])\n",
        "    sorted_len_0 = len(sorted_data_0['min_loss'])\n",
        "    yvals_0 = np.arange(sorted_len_0)/float(sorted_len_0-1)\n",
        "\n",
        "    sorted_data_1 = group_1.sort_values(by=['min_loss'])\n",
        "    sorted_len_1 = len(sorted_data_1['min_loss'])\n",
        "    yvals_1 = np.arange(sorted_len_1)/float(sorted_len_1-1)\n",
        "\n",
        "\n",
        "    plt.plot(sorted_data_0['min_loss'], yvals_0)\n",
        "    plt.plot(sorted_data_1['min_loss'], yvals_1)\n",
        "\n",
        "    plt.xlabel('loss per individual')\n",
        "    plt.ylabel('% of people within certain loss of centroid')\n",
        "    plt.title('Individual loss- CDF stratified by group')\n",
        "    plt.show()\n",
        "\n",
        "    subgroup_loss = compare_loss(sorted_data_0, sorted_data_1, .5)\n",
        "    new_loss = loss_funct(sorted_data_0, sorted_data_1)\n",
        "    print(loss)\n",
        "    print(new_loss)\n",
        "    if new_loss < loss:\n",
        "      loss = new_loss\n",
        "    else:\n",
        "      return\n",
        "        \n",
        "\n",
        "\n",
        "\n",
        "  \n",
        "\n",
        "update_centroids(centroids, df['x_coord'], df['y_coord'], tot_loss)"
      ],
      "execution_count": 15,
      "outputs": [
        {
          "output_type": "display_data",
          "data": {
            "image/png": "[encoded data removed]",
            "text/plain": [
              "<Figure size 432x288 with 1 Axes>"
            ]
          },
          "metadata": {
            "tags": [],
            "needs_background": "light"
          }
        },
        {
          "output_type": "stream",
          "text": [
            "0.750876907609542\n",
            "0.7475455183570263\n"
          ],
          "name": "stdout"
        },
        {
          "output_type": "display_data",
          "data": {
            "image/png": "[encoded data removed]",
            "text/plain": [
              "<Figure size 432x288 with 1 Axes>"
            ]
          },
          "metadata": {
            "tags": [],
            "needs_background": "light"
          }
        },
        {
          "output_type": "stream",
          "text": [
            "0.7475455183570263\n",
            "0.7475455183570263\n"
          ],
          "name": "stdout"
        }
      ]
    },
    {
      "cell_type": "code",
      "metadata": {
        "id": "kkvulHEXxtsV",
        "colab_type": "code",
        "colab": {}
      },
      "source": [
        ""
      ],
      "execution_count": 0,
      "outputs": []
    }
  ]
}