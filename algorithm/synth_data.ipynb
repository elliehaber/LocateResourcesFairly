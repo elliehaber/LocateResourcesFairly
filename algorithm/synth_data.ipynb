{
  "nbformat": 4,
  "nbformat_minor": 0,
  "metadata": {
    "colab": {
      "name": "synth_data.ipynb",
      "provenance": []
    },
    "kernelspec": {
      "name": "python3",
      "display_name": "Python 3"
    }
  },
  "cells": [
    {
      "cell_type": "code",
      "metadata": {
        "id": "4MvuZpJO9Kg-",
        "colab_type": "code",
        "colab": {}
      },
      "source": [
        "# now we create a quick function to calculate loss based on distance from centroid\n",
        "def calc_loss(x,y,x_ref,y_ref):\n",
        "    \n",
        "    \n",
        "    # calculate Euclidean distance btw person & centroid\n",
        "    distance = np.sqrt((((x-x_ref)**2)+((y-y_ref)**2))) \n",
        "    \n",
        "    # refer to the above distance function to determine individual loss\n",
        "    loss = 1/(1+ np.exp(-distance)) #converts distances to probability distribution\n",
        "    \n",
        "    #return distance\n",
        "    return loss"
      ],
      "execution_count": 0,
      "outputs": []
    },
    {
      "cell_type": "code",
      "metadata": {
        "id": "pHz2LfEQQsZK",
        "colab_type": "code",
        "colab": {}
      },
      "source": [
        "# this function compares the loss between two groups at a certain percentile level\n",
        "def compare_loss(group1,group2,percentile):\n",
        "    select_group = [group1, group2]\n",
        "    \n",
        "    percentile_loss = []\n",
        "    for s in select_group:\n",
        "        subgroup = [s['min_loss']] # subset the two different groups of interest\n",
        "        loss_p = np.percentile(subgroup, percentile,interpolation='linear') # find the level of loss at given percentile\n",
        "        percentile_loss.append(loss_p) # load list with loss\n",
        "        \n",
        "    difference = percentile_loss[0]-percentile_loss[1] # find difference between two @ percentile\n",
        "    \n",
        "    return np.abs(difference)"
      ],
      "execution_count": 0,
      "outputs": []
    },
    {
      "cell_type": "code",
      "metadata": {
        "id": "AV8DU-EkimxQ",
        "colab_type": "code",
        "colab": {}
      },
      "source": [
        "#this function calculates the summation of all the individual losses within each cluster for minimizing the objective function\n",
        "def sum_loss(cluster0, cluster1):\n",
        "  cluster0_len = len(cluster0['min_loss'])\n",
        "  cluster1_len = len(cluster1['min_loss'])\n",
        "  tot = cluster0_len + cluster1_len\n",
        "  #sums the losses from both clusters\n",
        "  tot_loss = (cluster0['min_loss'].sum() + cluster1['min_loss'].sum())/tot\n",
        "  return tot_loss"
      ],
      "execution_count": 0,
      "outputs": []
    },
    {
      "cell_type": "code",
      "metadata": {
        "id": "F-QSfIr4Xz49",
        "colab_type": "code",
        "colab": {}
      },
      "source": [
        "#this function calculates the subgroup loss constraint for the objective function\n",
        "def constraint(cluster0, cluster1, percentile):\n",
        "  cluster0_len = len(cluster0['min_loss'])\n",
        "  cluster1_len = len(cluster1['min_loss'])\n",
        "  tot = cluster0_len + cluster1_len\n",
        "  #calculation of subgroup loss between red and blue\n",
        "  subgroup_loss_div = compare_loss(cluster0, cluster1 ,percentile)\n",
        "  #based on the loss function defined, we divide the divergence of the 2 groups' loss by the number of subgroups\n",
        "  subgroup_div_tot = subgroup_loss_div/2\n",
        "  #want to minimize this value\n",
        "  return subgroup_div_tot\n",
        "\n",
        "\n"
      ],
      "execution_count": 0,
      "outputs": []
    },
    {
      "cell_type": "code",
      "metadata": {
        "id": "1RwVARLiMuvt",
        "colab_type": "code",
        "colab": {}
      },
      "source": [
        "# #calculates negative gradient for clusters\n",
        "# def update_weights(clust0, clust1, lr, centr):\n",
        "#   x_deriv_0, y_deriv_0 = 0, 0\n",
        "#   x_deriv_1, y_deriv_1 = 0, 0\n",
        "#   #total number of points in cluster 0 (points nearest to centroid 0)\n",
        "#   N_0 = len(clust0['x_coord'])\n",
        "#   #total number of points in cluster 1 (points nearest to centroid 1)\n",
        "#   N_1 = len(clust1['x_coord'])\n",
        "#   ans1_0, ans2_0 = centr[0][0], centr[0][1]\n",
        "#   ans1_1, ans2_1 = centr[1][0], centr[1][1]\n",
        "\n",
        "#   for i in range(N_0):\n",
        "\n",
        "#     #calculate partial derivatives\n",
        "#     #(e^-d/(1+e^-d)^2)\n",
        "#     x = clust0['x_coord'][i]\n",
        "#     y = clust0['y_coord'][i]\n",
        "\n",
        "#     distance = clust0['min_loss'][i]\n",
        "#     x_deriv_0 += ((np.exp(-1*distance))* (x-ans1_0))/((1 + np.exp(-1*distance))**2) *distance* lr\n",
        "#     y_deriv_0 += ((np.exp(-1*distance))*(y/np.sqrt(distance)))/((1 + np.exp(-1*distance))**2)*distance * lr\n",
        "\n",
        "#   ans1_0 -= (x_deriv_0/float(N_0)) * lr\n",
        "#   ans2_0 -= (y_deriv_0/float(N_0)) * lr\n",
        "\n",
        "\n",
        "#   for i in range(N_1):\n",
        "\n",
        "#     #calculate partial derivatives\n",
        "#     #(e^-d/(1+e^-d)^2)\n",
        "#     x = clust1['x_coord'][i]\n",
        "#     y = clust1['y_coord'][i]\n",
        "\n",
        "#     distance = clust1['min_loss'][i]\n",
        "#     x_deriv_1 += ((np.exp(-1*distance))*(x/np.sqrt(distance)))/((1 + np.exp(-1*distance))**2) * lr\n",
        "#     y_deriv_1 += ((np.exp(-1*distance))*(y/np.sqrt(distance)))/((1 + np.exp(-1*distance))**2) * lr\n",
        "\n",
        "#   ans1_1 -= (x_deriv_1/float(N_1)) * lr\n",
        "#   ans2_1 -= (y_deriv_1/float(N_1)) * lr\n",
        "#   return (ans1_0, ans2_0), (ans1_1, ans2_1)\n",
        "\n",
        "\n",
        "\n"
      ],
      "execution_count": 0,
      "outputs": []
    },
    {
      "cell_type": "code",
      "metadata": {
        "id": "D8J-adymVEo9",
        "colab_type": "code",
        "colab": {}
      },
      "source": [
        "#calculates negative gradient for clusters\n",
        "def update_weights(clust0, clust1, lr, centr):\n",
        "  x_deriv_0, y_deriv_0 = 0, 0\n",
        "  x_deriv_1, y_deriv_1 = 0, 0\n",
        "  #total number of points in cluster 0 (points nearest to centroid 0)\n",
        "  N_0 = len(clust0['x_coord'])\n",
        "  #total number of points in cluster 1 (points nearest to centroid 1)\n",
        "  N_1 = len(clust1['x_coord'])\n",
        "  #updated centroid coordinates \n",
        "  new_centr_x0, new_centr_y0 = centr[0][0], centr[0][1]\n",
        "  new_centr_x1, new_centr_y1 = centr[1][0], centr[1][1]\n",
        "\n",
        "  \n",
        "  for i in range(N_0):\n",
        "    #calculate partial derivatives\n",
        "    #(e^-d/(1+e^-d)^2)\n",
        "\n",
        "    x = clust0['x_coord'][i]\n",
        "    y = clust0['y_coord'][i]\n",
        "\n",
        "    distance = clust0['min_loss'][i]\n",
        "\n",
        "    numerator_x = np.exp(-1*distance)*(x-centr[0][0])\n",
        "    denominator_x = (1 + np.exp(-1*distance)) * distance\n",
        "    grad_x = numerator_x/denominator_x\n",
        "\n",
        "    numerator_y = np.exp(-1*distance)*(y-centr[0][1])\n",
        "    denominator_y = (1 + np.exp(-1*distance)) * distance\n",
        "    grad_y = numerator_y/denominator_y\n",
        "\n",
        "    x_deriv_0 += grad_x\n",
        "    y_deriv_0 += grad_y\n",
        "  \n",
        "  loss_grad_x = x_deriv_0/float(N_0)\n",
        "  loss_grad_y = y_deriv_0/float(N_0)\n",
        "\n",
        "\n",
        "  new_centr_x0 -= (loss_grad_x) * lr\n",
        "  new_centr_y0 -= (loss_grad_y) * lr\n",
        "\n",
        "\n",
        "  for i in range(N_1):\n",
        "\n",
        "    #calculate partial derivatives\n",
        "    #(e^-d/(1+e^-d)^2)\n",
        "    x = clust1['x_coord'][i]\n",
        "    y = clust1['y_coord'][i]\n",
        "\n",
        "    distance = clust1['min_loss'][i]\n",
        "\n",
        "    numerator_x = np.exp(-1*distance)*(x-centr[1][0])\n",
        "    denominator_x = (1 + np.exp(-1*distance)) * distance\n",
        "    grad_x = numerator_x/denominator_x\n",
        "\n",
        "    numerator_y = np.exp(-1*distance)*(y-centr[1][1])\n",
        "    denominator_y = (1 + np.exp(-1*distance)) * distance\n",
        "    grad_y = numerator_y/denominator_y\n",
        "\n",
        "    x_deriv_1 += grad_x\n",
        "    y_deriv_1 += grad_y\n",
        "  \n",
        "  loss_grad_x = x_deriv_1/float(N_1)\n",
        "  loss_grad_y = y_deriv_1/float(N_1)\n",
        "\n",
        "\n",
        "  new_centr_x1 -= (loss_grad_x) * lr\n",
        "  new_centr_y1 -= (loss_grad_y) * lr\n",
        "  \n",
        "  return (new_centr_x0, new_centr_y0), (new_centr_x1, new_centr_y1)\n",
        "\n",
        "\n",
        "\n"
      ],
      "execution_count": 0,
      "outputs": []
    },
    {
      "cell_type": "code",
      "metadata": {
        "id": "tM-zn_vGHsfh",
        "colab_type": "code",
        "colab": {}
      },
      "source": [
        ""
      ],
      "execution_count": 0,
      "outputs": []
    },
    {
      "cell_type": "code",
      "metadata": {
        "id": "kkvulHEXxtsV",
        "colab_type": "code",
        "colab": {}
      },
      "source": [
        "#updates centroid locations based on gradient descent and loss constraint\n",
        "def update(clust0, clust1, lr, centroids,loss, df):\n",
        "  c0_group0 = clust0[clust0['group']==0] \n",
        "  c0_group1 = clust0[clust0['group']==1] \n",
        "\n",
        "  c1_group0 = clust1[clust1['group']==0] \n",
        "  c1_group1 = clust1[clust1['group']==1] \n",
        "  \n",
        "  subgroup_loss = constraint(group0, group1, .5)\n",
        "  L = .09\n",
        "  while subgroup_loss < L:\n",
        "    print('subgroup loss: ', subgroup_loss)\n",
        "    old_loss = loss\n",
        "    temp_centroids = centroids\n",
        "    temp = update_weights(clust0, clust1, .5, centroids)\n",
        "    print('temp ', temp)\n",
        "    temp_centroids[0] = temp[0]\n",
        "    temp_centroids[1] = temp[1]\n",
        "    df = assign_cluster(df, temp_centroids)\n",
        "    clust0 = df[df['min_centr'] == 0]\n",
        "    clust0 = clust_0.reset_index()\n",
        "    #all points clustered around centroid 1\n",
        "    clust1 = df[df['min_centr'] == 1]\n",
        "    clust1 = clust_1.reset_index()\n",
        "    group_0 = clust0[clust0['min_centr']==0]\n",
        "    group_1 = clust0[clust1['min_centr']==1]\n",
        "    loss = sum_loss(clust0, clust1)\n",
        "    subgroup_loss = constraint(group0, group1, .5)\n",
        "    # print(subgroup_loss)\n",
        "    if loss < old_loss:\n",
        "      centroids[0] = temp[0]\n",
        "      centroids[1] = temp[1]\n",
        "    else:\n",
        "      return centroids\n",
        "\n",
        "\n"
      ],
      "execution_count": 0,
      "outputs": []
    },
    {
      "cell_type": "code",
      "metadata": {
        "id": "_8N7YL7Kxs79",
        "colab_type": "code",
        "colab": {}
      },
      "source": [
        "def assign_cluster(df, centroids):\n",
        "  for i in centroids.keys():\n",
        "    #loss based on euclidean distance for each individual point compared to both centroids\n",
        "    #stored in dataframe\n",
        "    df['loss_from_{}'.format(i)] = calc_loss(df['x_coord'], df['y_coord'], centroids[i][0], centroids[i][1])\n",
        "\n",
        "  centroid_dist_col = ['loss_from_{}'.format(i) for i in centroids.keys()]\n",
        "\n",
        "  #df column which holds the value of the closest centroid for each point\n",
        "  df['min_centr'] = df.loc[:, centroid_dist_col].idxmin(axis=1)\n",
        "  df['min_centr'] = df['min_centr'].map(lambda x: int(x.lstrip('loss_from_')))\n",
        "  \n",
        "  #value of loss calculated from sigmoid in calc_loss function for individual loss\n",
        "  df['min_loss'] = df[['loss_from_0','loss_from_1']].min(axis=1)\n",
        "  #color of the closest centroid to each point\n",
        "  df['color'] = df['min_centr'].map(lambda x: color_map[x])\n",
        "  return df\n",
        "\n",
        "\n"
      ],
      "execution_count": 0,
      "outputs": []
    },
    {
      "cell_type": "code",
      "metadata": {
        "id": "l0PFBv30obU-",
        "colab_type": "code",
        "outputId": "62db146e-f70f-4248-acb5-bf74e67bf6a9",
        "colab": {
          "base_uri": "https://localhost:8080/",
          "height": 390
        }
      },
      "source": [
        "from sklearn.datasets import make_classification\n",
        "from matplotlib import pyplot as plt\n",
        "import seaborn as sns\n",
        "import numpy as np\n",
        "import pandas as pd\n",
        "\n",
        "\n",
        "\n",
        "# Generate Imbalanced Synthetic Data\n",
        "X,y = make_classification(n_samples=10000, shift=4 ,n_features=2,n_informative=2, n_redundant=0, n_repeated=0, n_classes=2, n_clusters_per_class=2,class_sep=.8,flip_y=0,weights=[0.75,0.25], random_state=55)\n",
        "\n",
        "#create dataframe to hold x and y coordinates\n",
        "df = pd.DataFrame({\n",
        "    'x_coord': X[:,0],\n",
        "    'y_coord': X[:,1]\n",
        "})\n",
        "\n",
        "#red vs blue points\n",
        "#if group = 0, then the point is in the blue group\n",
        "# if group = 1, then the point is in the red group\n",
        "df['group'] = y\n",
        "\n",
        "\n",
        "# np.random.seed(42)\n",
        "\n",
        "#arbitrarily picked random k (number of centroids)\n",
        "k = 2\n",
        "\n",
        "#randomly initialized centroid x and y coordinates (in real data we will actually have these coordinates)\n",
        "centroids = {\n",
        "    0: [3,4],\n",
        "    1: [5.5, 4.5]\n",
        "}\n",
        "\n",
        "#colors for centroids\n",
        "color_map = {0: 'g', 1: 'm'}\n",
        "\n",
        "\n",
        "#plot synthetic data\n",
        "fig = plt.figure(figsize=(5,5))\n",
        "ax = sns.scatterplot(X[:,0],X[:,1],hue=y, palette=['blue','red'])\n",
        "\n",
        "for i in centroids.keys():\n",
        "  plt.scatter(centroids[i][0], centroids[i][1], color=color_map[i])\n",
        "df = assign_cluster(df, centroids)\n",
        "df\n",
        "plt.xlim(0, 8)\n",
        "plt.ylim(0, 8)\n",
        "ax.set_title(\"Synthetic Data\");\n",
        "plt.show()\n",
        "\n"
      ],
      "execution_count": 9,
      "outputs": [
        {
          "output_type": "stream",
          "text": [
            "/usr/local/lib/python3.6/dist-packages/statsmodels/tools/_testing.py:19: FutureWarning: pandas.util.testing is deprecated. Use the functions in the public API at pandas.testing instead.\n",
            "  import pandas.util.testing as tm\n"
          ],
          "name": "stderr"
        },
        {
          "output_type": "display_data",
          "data": {
            "image/png": "[encoded data removed]",
            "text/plain": [
              "<Figure size 360x360 with 1 Axes>"
            ]
          },
          "metadata": {
            "tags": [],
            "needs_background": "light"
          }
        }
      ]
    },
    {
      "cell_type": "code",
      "metadata": {
        "id": "-Hmd3wEVP1PC",
        "colab_type": "code",
        "outputId": "decdf560-3689-434a-97fb-88bed4c9d1a5",
        "colab": {
          "base_uri": "https://localhost:8080/",
          "height": 419
        }
      },
      "source": [
        "df = assign_cluster(df, centroids)\n",
        "df"
      ],
      "execution_count": 26,
      "outputs": [
        {
          "output_type": "execute_result",
          "data": {
            "text/html": [
              "<div>\n",
              "<style scoped>\n",
              "    .dataframe tbody tr th:only-of-type {\n",
              "        vertical-align: middle;\n",
              "    }\n",
              "\n",
              "    .dataframe tbody tr th {\n",
              "        vertical-align: top;\n",
              "    }\n",
              "\n",
              "    .dataframe thead th {\n",
              "        text-align: right;\n",
              "    }\n",
              "</style>\n",
              "<table border=\"1\" class=\"dataframe\">\n",
              "  <thead>\n",
              "    <tr style=\"text-align: right;\">\n",
              "      <th></th>\n",
              "      <th>x_coord</th>\n",
              "      <th>y_coord</th>\n",
              "      <th>group</th>\n",
              "      <th>loss_from_0</th>\n",
              "      <th>loss_from_1</th>\n",
              "      <th>min_centr</th>\n",
              "      <th>min_loss</th>\n",
              "      <th>color</th>\n",
              "    </tr>\n",
              "  </thead>\n",
              "  <tbody>\n",
              "    <tr>\n",
              "      <th>0</th>\n",
              "      <td>4.677735</td>\n",
              "      <td>6.148117</td>\n",
              "      <td>1</td>\n",
              "      <td>0.938524</td>\n",
              "      <td>0.863169</td>\n",
              "      <td>1</td>\n",
              "      <td>0.863169</td>\n",
              "      <td>m</td>\n",
              "    </tr>\n",
              "    <tr>\n",
              "      <th>1</th>\n",
              "      <td>3.415488</td>\n",
              "      <td>3.497728</td>\n",
              "      <td>0</td>\n",
              "      <td>0.657429</td>\n",
              "      <td>0.909952</td>\n",
              "      <td>0</td>\n",
              "      <td>0.657429</td>\n",
              "      <td>g</td>\n",
              "    </tr>\n",
              "    <tr>\n",
              "      <th>2</th>\n",
              "      <td>4.865680</td>\n",
              "      <td>1.781136</td>\n",
              "      <td>1</td>\n",
              "      <td>0.947797</td>\n",
              "      <td>0.942238</td>\n",
              "      <td>1</td>\n",
              "      <td>0.942238</td>\n",
              "      <td>m</td>\n",
              "    </tr>\n",
              "    <tr>\n",
              "      <th>3</th>\n",
              "      <td>3.289023</td>\n",
              "      <td>2.337503</td>\n",
              "      <td>0</td>\n",
              "      <td>0.843887</td>\n",
              "      <td>0.956595</td>\n",
              "      <td>0</td>\n",
              "      <td>0.843887</td>\n",
              "      <td>g</td>\n",
              "    </tr>\n",
              "    <tr>\n",
              "      <th>4</th>\n",
              "      <td>3.585084</td>\n",
              "      <td>2.673353</td>\n",
              "      <td>0</td>\n",
              "      <td>0.809990</td>\n",
              "      <td>0.933796</td>\n",
              "      <td>0</td>\n",
              "      <td>0.809990</td>\n",
              "      <td>g</td>\n",
              "    </tr>\n",
              "    <tr>\n",
              "      <th>...</th>\n",
              "      <td>...</td>\n",
              "      <td>...</td>\n",
              "      <td>...</td>\n",
              "      <td>...</td>\n",
              "      <td>...</td>\n",
              "      <td>...</td>\n",
              "      <td>...</td>\n",
              "      <td>...</td>\n",
              "    </tr>\n",
              "    <tr>\n",
              "      <th>9995</th>\n",
              "      <td>3.194054</td>\n",
              "      <td>2.488914</td>\n",
              "      <td>0</td>\n",
              "      <td>0.821053</td>\n",
              "      <td>0.955204</td>\n",
              "      <td>0</td>\n",
              "      <td>0.821053</td>\n",
              "      <td>g</td>\n",
              "    </tr>\n",
              "    <tr>\n",
              "      <th>9996</th>\n",
              "      <td>2.959767</td>\n",
              "      <td>3.050791</td>\n",
              "      <td>0</td>\n",
              "      <td>0.721128</td>\n",
              "      <td>0.949052</td>\n",
              "      <td>0</td>\n",
              "      <td>0.721128</td>\n",
              "      <td>g</td>\n",
              "    </tr>\n",
              "    <tr>\n",
              "      <th>9997</th>\n",
              "      <td>3.044121</td>\n",
              "      <td>4.304612</td>\n",
              "      <td>0</td>\n",
              "      <td>0.576346</td>\n",
              "      <td>0.921561</td>\n",
              "      <td>0</td>\n",
              "      <td>0.576346</td>\n",
              "      <td>g</td>\n",
              "    </tr>\n",
              "    <tr>\n",
              "      <th>9998</th>\n",
              "      <td>3.361827</td>\n",
              "      <td>1.942454</td>\n",
              "      <td>0</td>\n",
              "      <td>0.889841</td>\n",
              "      <td>0.965566</td>\n",
              "      <td>0</td>\n",
              "      <td>0.889841</td>\n",
              "      <td>g</td>\n",
              "    </tr>\n",
              "    <tr>\n",
              "      <th>9999</th>\n",
              "      <td>3.485787</td>\n",
              "      <td>4.852525</td>\n",
              "      <td>0</td>\n",
              "      <td>0.727350</td>\n",
              "      <td>0.885433</td>\n",
              "      <td>0</td>\n",
              "      <td>0.727350</td>\n",
              "      <td>g</td>\n",
              "    </tr>\n",
              "  </tbody>\n",
              "</table>\n",
              "<p>10000 rows × 8 columns</p>\n",
              "</div>"
            ],
            "text/plain": [
              "       x_coord   y_coord  group  ...  min_centr  min_loss  color\n",
              "0     4.677735  6.148117      1  ...          1  0.863169      m\n",
              "1     3.415488  3.497728      0  ...          0  0.657429      g\n",
              "2     4.865680  1.781136      1  ...          1  0.942238      m\n",
              "3     3.289023  2.337503      0  ...          0  0.843887      g\n",
              "4     3.585084  2.673353      0  ...          0  0.809990      g\n",
              "...        ...       ...    ...  ...        ...       ...    ...\n",
              "9995  3.194054  2.488914      0  ...          0  0.821053      g\n",
              "9996  2.959767  3.050791      0  ...          0  0.721128      g\n",
              "9997  3.044121  4.304612      0  ...          0  0.576346      g\n",
              "9998  3.361827  1.942454      0  ...          0  0.889841      g\n",
              "9999  3.485787  4.852525      0  ...          0  0.727350      g\n",
              "\n",
              "[10000 rows x 8 columns]"
            ]
          },
          "metadata": {
            "tags": []
          },
          "execution_count": 26
        }
      ]
    },
    {
      "cell_type": "code",
      "metadata": {
        "id": "IoPP1m_wml_v",
        "colab_type": "code",
        "colab": {}
      },
      "source": [
        "#all points clustered around centroid 0\n",
        "clust_0 = df[df['min_centr'] == 0]\n",
        "clust_0 = clust_0.reset_index()\n",
        "#all points clustered around centroid 1\n",
        "clust_1 = df[df['min_centr'] == 1]\n",
        "clust_1 = clust_1.reset_index()\n",
        "\n",
        "#all points in group 0 (blue points)\n",
        "group_0 = df[df['group']==0]\n",
        "group_0 = group_0.reset_index()\n",
        "\n",
        "#all points in group 1 (red points)\n",
        "group_1 = df[df['group']==1]\n",
        "group_1 = group_1.reset_index()\n",
        "\n",
        "#blue = 0\n",
        "#red = 1\n",
        "\n",
        "#dictionary storing total red and blue points associated with centrioid 0\n",
        "clust_0_groups = {0: clust_0.loc[clust_0['group']==0, 'group'].count(), \n",
        "                  1: clust_0.loc[clust_0['group']==1, 'group'].count()}\n",
        "\n",
        "#total number of points in cluster around centroid 0\n",
        "clust0_tot = clust_0_groups[0] + clust_0_groups[1]\n",
        "\n",
        "#dictionary storing total red and blue points associated with centrioid 1\n",
        "clust_1_groups = {0: clust_1.loc[clust_1['group']==0, 'group'].count(), \n",
        "                  1: clust_1.loc[clust_1['group']==1, 'group'].count()}\n",
        "\n",
        "#total number of points in cluster around centroid 1\n",
        "clust1_tot = clust_1_groups[0] + clust_1_groups[1]\n"
      ],
      "execution_count": 0,
      "outputs": []
    },
    {
      "cell_type": "code",
      "metadata": {
        "id": "Yvk9M3hZVaF-",
        "colab_type": "code",
        "outputId": "4f419a19-a55b-4037-a2c9-2386bd4349e1",
        "colab": {
          "base_uri": "https://localhost:8080/",
          "height": 51
        }
      },
      "source": [
        "#Total Percentages of Red and Blue in population \n",
        "red_percent = (clust_0_groups[1] + clust_1_groups[1])/(clust0_tot + clust1_tot)\n",
        "blue_percent = (clust_0_groups[0] + clust_1_groups[0])/(clust0_tot + clust1_tot)\n",
        "\n",
        "print('red: ', red_percent)\n",
        "print('blue: ', blue_percent)"
      ],
      "execution_count": 28,
      "outputs": [
        {
          "output_type": "stream",
          "text": [
            "red:  0.25\n",
            "blue:  0.75\n"
          ],
          "name": "stdout"
        }
      ]
    },
    {
      "cell_type": "code",
      "metadata": {
        "id": "kGM-v-xyV6f-",
        "colab_type": "code",
        "outputId": "f45b6a5b-7a74-43b4-bc70-939413ccb404",
        "colab": {
          "base_uri": "https://localhost:8080/",
          "height": 213
        }
      },
      "source": [
        "#Total Percentages Per Cluster\n",
        "#Cluster 0 red percentage\n",
        "clust0_percent_red = clust_0_groups[1]/clust0_tot\n",
        "\n",
        "#Cluster 0 blue percentage\n",
        "clust0_percent_blue = clust_0_groups[0]/clust0_tot\n",
        "\n",
        "print(\"Cluster 0: \")\n",
        "print('red: ', clust0_percent_red)\n",
        "print('blue: ', clust0_percent_blue)\n",
        "\n",
        "#Cluster 1 red percentage\n",
        "clust1_percent_red = clust_1_groups[1]/clust1_tot\n",
        "\n",
        "#Cluster 0 blue percentage\n",
        "clust1_percent_blue = clust_1_groups[0]/clust1_tot\n",
        "\n",
        "print(\"Cluster 1: \")\n",
        "print('red: ', clust1_percent_red)\n",
        "print('blue: ', clust1_percent_blue)\n",
        "\n",
        "\n",
        "#new dataframe for the percentages of each group in both clusters and the total population\n",
        "color_rates = pd.DataFrame({'color': ['red', 'blue'],\n",
        "                            'population_level': [red_percent, blue_percent],\n",
        "                            'cluster_0': [clust0_percent_red, clust0_percent_blue],\n",
        "                            'cluster_1': [clust1_percent_red, clust1_percent_blue]})\n",
        "color_rates"
      ],
      "execution_count": 29,
      "outputs": [
        {
          "output_type": "stream",
          "text": [
            "Cluster 0: \n",
            "red:  0.05573474390401238\n",
            "blue:  0.9442652560959877\n",
            "Cluster 1: \n",
            "red:  0.9195197865718097\n",
            "blue:  0.08048021342819031\n"
          ],
          "name": "stdout"
        },
        {
          "output_type": "execute_result",
          "data": {
            "text/html": [
              "<div>\n",
              "<style scoped>\n",
              "    .dataframe tbody tr th:only-of-type {\n",
              "        vertical-align: middle;\n",
              "    }\n",
              "\n",
              "    .dataframe tbody tr th {\n",
              "        vertical-align: top;\n",
              "    }\n",
              "\n",
              "    .dataframe thead th {\n",
              "        text-align: right;\n",
              "    }\n",
              "</style>\n",
              "<table border=\"1\" class=\"dataframe\">\n",
              "  <thead>\n",
              "    <tr style=\"text-align: right;\">\n",
              "      <th></th>\n",
              "      <th>color</th>\n",
              "      <th>population_level</th>\n",
              "      <th>cluster_0</th>\n",
              "      <th>cluster_1</th>\n",
              "    </tr>\n",
              "  </thead>\n",
              "  <tbody>\n",
              "    <tr>\n",
              "      <th>0</th>\n",
              "      <td>red</td>\n",
              "      <td>0.25</td>\n",
              "      <td>0.055735</td>\n",
              "      <td>0.91952</td>\n",
              "    </tr>\n",
              "    <tr>\n",
              "      <th>1</th>\n",
              "      <td>blue</td>\n",
              "      <td>0.75</td>\n",
              "      <td>0.944265</td>\n",
              "      <td>0.08048</td>\n",
              "    </tr>\n",
              "  </tbody>\n",
              "</table>\n",
              "</div>"
            ],
            "text/plain": [
              "  color  population_level  cluster_0  cluster_1\n",
              "0   red              0.25   0.055735    0.91952\n",
              "1  blue              0.75   0.944265    0.08048"
            ]
          },
          "metadata": {
            "tags": []
          },
          "execution_count": 29
        }
      ]
    },
    {
      "cell_type": "code",
      "metadata": {
        "id": "Dm3pDagaXwU8",
        "colab_type": "code",
        "outputId": "12320c2a-4797-4dea-8fe9-be4dffda6ad0",
        "colab": {
          "base_uri": "https://localhost:8080/",
          "height": 282
        }
      },
      "source": [
        "#plot representing the percentage differences in red/blue group representation on population/cluster level\n",
        "plt.scatter(color_rates['color'], color_rates['population_level'],label='population level')\n",
        "plt.scatter(color_rates['color'],color_rates['cluster_0'],label = 'cluster 0')\n",
        "plt.scatter(color_rates['color'],color_rates['cluster_1'],label = 'cluster 1')\n",
        "plt.legend()"
      ],
      "execution_count": 22,
      "outputs": [
        {
          "output_type": "execute_result",
          "data": {
            "text/plain": [
              "<matplotlib.legend.Legend at 0x7f7dd9db34e0>"
            ]
          },
          "metadata": {
            "tags": []
          },
          "execution_count": 22
        },
        {
          "output_type": "display_data",
          "data": {
            "image/png": "[encoded data removed]",
            "text/plain": [
              "<Figure size 432x288 with 1 Axes>"
            ]
          },
          "metadata": {
            "tags": [],
            "needs_background": "light"
          }
        }
      ]
    },
    {
      "cell_type": "code",
      "metadata": {
        "id": "gm1uSK1qNWF-",
        "colab_type": "code",
        "outputId": "821caeb8-6f97-4a32-cb9f-f67de25be4a1",
        "colab": {
          "base_uri": "https://localhost:8080/",
          "height": 295
        }
      },
      "source": [
        "#CDF for all blue and red points\n",
        "#cdf for group 0 (all blue points)\n",
        "sorted_data_0 = group_0.sort_values(by=['min_loss'])\n",
        "sorted_len_0 = len(sorted_data_0['min_loss'])\n",
        "yvals_0 = np.arange(sorted_len_0)/float(sorted_len_0-1)\n",
        "\n",
        "#cdf for group 1 (all red points)\n",
        "sorted_data_1 = group_1.sort_values(by=['min_loss'])\n",
        "sorted_len_1 = len(sorted_data_1['min_loss'])\n",
        "yvals_1 = np.arange(sorted_len_1)/float(sorted_len_1-1)\n",
        "\n",
        "\n",
        "plt.plot(sorted_data_0['min_loss'], yvals_0, 'b')\n",
        "plt.plot(sorted_data_1['min_loss'], yvals_1, 'r')\n",
        "\n",
        "plt.xlabel('loss per individual')\n",
        "plt.ylabel('% of people within certain loss of centroid')\n",
        "plt.title('Individual loss- CDF stratified by group')\n",
        "plt.show()\n",
        "\n",
        "\n",
        "#blue = 0 (blue points)\n",
        "#red = 1 (red points)"
      ],
      "execution_count": 23,
      "outputs": [
        {
          "output_type": "display_data",
          "data": {
            "image/png": "[encoded data removed]",
            "text/plain": [
              "<Figure size 432x288 with 1 Axes>"
            ]
          },
          "metadata": {
            "tags": [],
            "needs_background": "light"
          }
        }
      ]
    },
    {
      "cell_type": "code",
      "metadata": {
        "id": "2MEKHTpLhcNV",
        "colab_type": "code",
        "outputId": "9dfcd6e7-832f-4d4f-d374-464253e9654b",
        "colab": {
          "base_uri": "https://localhost:8080/",
          "height": 85
        }
      },
      "source": [
        "df = assign_cluster(df, centroids)\n",
        "df\n",
        "loss = sum_loss(group_0, group_1)\n",
        "loss\n",
        "update(clust_0, clust_1, .01, centroids,loss,df )"
      ],
      "execution_count": 24,
      "outputs": [
        {
          "output_type": "stream",
          "text": [
            "subgroup loss:  0.011407552446921931\n",
            "temp  ((2.9999899441307645, 4.000002579528498), (5.500099260003685, 4.500029141041748))\n"
          ],
          "name": "stdout"
        },
        {
          "output_type": "execute_result",
          "data": {
            "text/plain": [
              "{0: (2.9999899441307645, 4.000002579528498),\n",
              " 1: (5.500099260003685, 4.500029141041748)}"
            ]
          },
          "metadata": {
            "tags": []
          },
          "execution_count": 24
        }
      ]
    },
    {
      "cell_type": "code",
      "metadata": {
        "id": "9ZOLnvd1yhn_",
        "colab_type": "code",
        "outputId": "f28ac9af-d2f9-47b8-a18a-beb70af2b823",
        "colab": {
          "base_uri": "https://localhost:8080/",
          "height": 51
        }
      },
      "source": [
        "centroids"
      ],
      "execution_count": 25,
      "outputs": [
        {
          "output_type": "execute_result",
          "data": {
            "text/plain": [
              "{0: (2.9999899441307645, 4.000002579528498),\n",
              " 1: (5.500099260003685, 4.500029141041748)}"
            ]
          },
          "metadata": {
            "tags": []
          },
          "execution_count": 25
        }
      ]
    }
  ]
}